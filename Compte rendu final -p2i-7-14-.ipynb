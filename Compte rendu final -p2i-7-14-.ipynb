{
  "cells": [
    {
      "cell_type": "markdown",
      "source": [
        "### P2I-7 : Projet 14\n",
        "# Débit d'écoulement dans un silo à grains : Rapport final\n",
        " Auteurs: Meynard Lucien - Samain Luc - Schlee Adam\n",
        "\n",
        "<a id=\"insalogo\"></a>\n",
        "![Logo de l'INSA](insalogo.jpg)\n",
        "\n"
      ],
      "metadata": {
        "tags": [
          "show_line_numbers"
        ]
      },
      "id": "536cd42b"
    },
    {
      "cell_type": "markdown",
      "source": [
        "## Sommaire:\n",
        "[I. Présentation générale](#I)  \n",
        " >[I.a) Résumé du projet](#Ia)  \n",
        " [I.b) Brève introduction à la modélisation numérique  ](#Ib)\n",
        "\n",
        "[II. Démarche Scientifique](#II)"
      ],
      "metadata": {
        "noteable": {
          "cell_type": "markdown"
        }
      },
      "id": "3eb6ca82-c21c-45f3-8010-30fb107d9e24"
    },
    {
      "cell_type": "markdown",
      "source": [
        "<a id=\"I\"></a>\n",
        "## I. Présentation générale\n",
        "\n",
        "<a id=\"Ia\"></a>\n",
        "### I.a) Résumé du projet :\n",
        "\n",
        "Les matériaux granulaires représentent un enjeu majeur de notre société; ils sont présents dans tout les domaines sous différentes formes, du sable à la roche en passant par le blé. Comprendre leurs comportements dans les milieux qui les entourent est donc essentiel pour mettre des avancées dans de nombreux secteurs (géologie, industries minières/pharmaceutique/chimique...) mais également pour optimiser leur transport et leur stockage. \n",
        "\n",
        "Dans notre projet, nous nous sommes concentrés sur le secteur de l'agroalimentaire avec les silos à grains. L'objectif principal du projet est donc de créer une simulation, en python, permettant de vérifier numériquement une formule analytique du débit granulaire à la sortie d'un silo à grain.   \n",
        "\n",
        "<a id=\"Ib\"></a>\n",
        "### I.b) Brève introduction à la modélisation numérique :\n",
        "Afin réaliser cette modélisation, nous utilisons une méthode de discrétisation appelée Discrete Element Method (DEM). Cette méthode permet de simuler les interactions entre les grains et les parois du silo en considérant chaque grain comme une entité discrète.\n",
        "\n",
        "Chaque grain, possède sa propre taille et masse. A chaque instant on associe une position, une vitesse et une accélération à tous les grains de notre simulation.\n",
        "\n",
        "\n",
        "Pour réaliser la simulation il nous faut aussi discrétiser le temps. On définit une durée pour la simulation ainsi qu'un pas de temps déterminant l'intervalle d'actualisation des caractéristique de nos grains. Autrement dit, tous les pas de temps, nous mettons à jour les intéractions sur les grains afin de calculer leur nouvelle position, vitesse et accélération. \n",
        "\n",
        "![Image du projet](silo_intro.png)"
      ],
      "metadata": {
        "noteable": {
          "cell_type": "markdown"
        },
        "tags": [
          "show_line_numbers"
        ]
      },
      "id": "e096f526-5e22-49ce-95b0-600b36f2bdd4"
    },
    {
      "cell_type": "markdown",
      "source": [
        "<a id=\"II\"></a>\n",
        "## II. Démarche scientifique \n",
        "\n",
        "Pour élaborer notre approche scientifique et les méthodes numériques à utiliser, nous avons principalement utilisé le cours et les ressources fournies par notre tuteur. \n",
        "\n",
        "<a id=\"IIa\"></a>\n",
        "### II.a) Contacts et paramètres physiques\n",
        "\n",
        "Parmi ces méthodes, on retrouve la modélisation des contacts entre les différents éléments de notre simulation.\n",
        "\n",
        "En vue de modéliser un contact entre deux entités, on introduit des ressorts ainsi qu'un amortisseur entre les deux grains. Cette approche permet de mettre en oeuvre les efforts repulsif et attractifs qui découlent d'un contact entre deux objets. Ci-dessous un schéma descriptif: \n",
        "<a id=\"figure1\"></a>\n",
        "|![Ressort](ressort.png)|\n",
        "|:--:|\n",
        "| <b>Fig.1 - Représentation schématique du contact entre deux grains</b>|\n",
        "\n",
        "Les valeurs $ \\delta_n $ et $\\delta_t $ représentent respectivement l'allongement normal et tangentiel. Ils représentent l'interpénétration des deux grains. Plus les deux objets s'interpénetrent plus les efforts repulsifs sont importants. Nous pouvons faire l'analogie avec un ressort: plus on compresse un ressort plus la réaction du ressort est importante\n",
        "\n",
        "Les paramètres $k_n, \\gamma_n, \\mu $ sont des constantes définissant respectivement la raideur, le coefficient d'amortissement et le coefficient de frottement. \n",
        "\n",
        "Ces paramètres permettent de caractériser et de modifier manuellement les intéractions qui ont lieu. En augmentant la raideur, par exemple, nous amplifions la réaction du ressort proportionnellement à son allongement.\n",
        "\n",
        "Le choix de toutes ces valeurs est crucial pour le bon fonctionnement de la simulation. En effet, si les paramètres sont incohérents et/ou incohérents entre eux, bien que le code soit juste, la simulation sera fausse. Le choix de ses valeurs est arbitraire et doit être changé manuellement pour s'adapter à chaque modélisation. Cependant, il existe des formules usuelles reliant ces grandeurs entre-elles fournissant des résultats satisfaisant dans la plupart des temps. Prenons l'exemple de l'effort normal au contact entre deux grains :\n",
        "<a id=\"figure2\"></a>\n",
        "|![Equation_ressort](equation_ressort.png)|\n",
        "|:--:|\n",
        "| <b>Fig.2 - Résultante de l'effort normal</b>|\n",
        "\n",
        "Le terme $\\gamma_n \\cdot \\frac{d\\delta_n}{dt}$ représente l'amortissement . Cette valeur permet d'amortir les contacts trop intenses. \n",
        "\n",
        "<a id=\"IIb\"></a>\n",
        "### II.b) Dynamique et schéma d'intégration temporel\n",
        "\n",
        "En dehors des équations modélisant les efforts, si nous voulons modéliser la dynamique de nos particules, nous devons faire appel aux Principe Fondamental de la Dynamique. Le PFD permet de relier l'accélération d'un système aux efforts extérieurs qu'il subit. A partir du PFD de Newton, nous pouvons quantifier l'accélération d'un système via le bilan des actions extérieurs qui s'appliquent sur celui-ci.\n",
        "\n",
        "Néamoins, dans le but de prévoir l'évolution de la vitesse et de la position d'un grain, il est nécessaire d'intégrer cette équation fondamentale. C'est pourquoi, afin d'intégrer temporellement ces équations nous devons faire appel à un \"**schéma d'intégration temporel**\". L'intégration temporelle est l'ensemble des techniques qui permettent de résoudre numériquement des équations différentiel les ordinaires, qui sont des équations décrivant le comportement d'une variable au fil du temps. Ici le schéma est utilisé pour le PFD et les équations qui en dérivent.\n",
        "\n",
        "Une fois que nous avons choisi et appliqué un schéma d'intégration, nous pouvons prédire l'évolution de la position et de la vitesse de chaque particule au fil du temps, en fonction des forces externes qu'elle subit.\n",
        "\n",
        "Le schéma d'intégration temporel utilisé dans notre projet est celui de Verlet que nous pouvons décrire étape par étape comme suit:\n",
        "\n",
        "<a id=\"figure3\"></a>\n",
        "|![Schema de Verlet](verlet.png)|\n",
        "|:--:|\n",
        "| <b>Fig.3 - Schema d'intégration temporel de Verlet</b>|\n",
        "\n",
        "Les indices $k, k-1$ etc. représentent les instants au cours du temps. Les équations mentionnées telles que 'Équations (4.18)' sont les équations temporelles qui rendent comptent de l'application du schéma d'intégration temporel au PFD sur les grains de notre simulation:\n",
        "\n",
        "<a id=\"figure4\"></a>\n",
        "|![Equations_temporelles](equation_temporelle.png)|\n",
        "|:--:|\n",
        "| <b>Fig.4 - Equation temporelle (4.18) et (4.19)</b>|\n",
        "\n",
        "Ces deux équations mettent respectivement à jour la position ainsi que la vitesse à demi pas (voir le [schéma d'intégration temporel](#figure3)). \n",
        "\n",
        "Il est intéressant de remarquer que la vitesse à demi-pas de temps n'a aucun sens physiquement parlant. Toutefois, le caractère discret du temps, mentionné en introduction, est utilisé à travers ces algorithmes de résolution.\n",
        "\n",
        "Le terme $\\Delta t$ est le pas de temps de notre simulation. C'est probablement le paramètre le plus important de la simulation. En effet, plusun pas de temps est petit, plus le caractère discret du temps se rapprochera du caratère continue rélle. U  de temps faible inclue une simulation plus longue car impliquant un plus grand nombre de calcul pour une simulation à durée fixée. De plus, und nombre de calcul, résulte souvent en une occpuation de mémoire(numérique) plus importante. Ce paramètre est à la fois une appréciation de la qualité de la simulation car central au cœur des calculs réalisé Par exemple, généralement, l'une des première erreurs que fait une personne est d'attribuer une trop grande raideur pour un pas de temps pas suffisamment faible. La trop grande raideur conduit à une réaction dynamique très forte qu'il est nécessaire de suivre rapidement. Sans un pas de temps faible, il est impossible de suivre la forte réponse induite par l'importante raideur choisie.  \n",
        "\n",
        "Finalement, pour résumer, nous avons utilisé l'algorithme suivant:\n",
        "\n",
        "<a id=\"figure5\"></a>\n",
        "|![Algorithme utilisé](algo.png)|\n",
        "|:--:|\n",
        "| <b>Fig.5 - Algorithme utilisé</b>|\n",
        "\n",
        "Cet algorithme décrit exhaustivement toutes les étapes permettant d'implémenter la simulation de grains intéragissant entre eux. Il nous renseigne sur l'ordre des mises à jour ainsi que sur les calculs physiques à réaliser.\n",
        "\n",
        "\n"
      ],
      "metadata": {
        "noteable": {
          "cell_type": "markdown"
        },
        "tags": [
          "show_line_numbers"
        ]
      },
      "id": "10c9a602-3ddf-490a-b1eb-65b94b1842fa"
    },
    {
      "cell_type": "markdown",
      "source": [
        "## Simplifications du modèle et choix des données\n",
        "\n",
        "### Physique, espace et temps :\n",
        "Comme on peut le remarquer, notre modèle ne considère pas la rotation des grains. Autrement dit, nos grains ne 'roulent' pas, ils glissent. Notre modèle se limite donc à deux degrés de liberté (l'abscisse et l'ordonné) soit une modélisation en 2D. En effet, voici les différents phénomènes implémentés :\n",
        "\n",
        "+ Effort normal:\n",
        "    + Allongement normal.\n",
        "    + Amortissement.\n",
        "+ Effort tangentiel:\n",
        "    + Allongement tangentiel.\n",
        "    + Glissement.\n",
        "+ Autres:\n",
        "    + Efforts à distance (gravite due au poids des grains)\n",
        "    + Frottement de l'air (trainée aéronotique)\n",
        "\n",
        "Par ailleurs, si dans la réalité les granulés possèdent tous une forme singulière, pour ce projet, nous avons considéré que les grains sont des sphères parfaites. Ceci dit, les rayons des grains varient de $\\pm$20% par rapport à une valeur de référence. La masse associé aux grains et calculée via la masse volumique des grains. Par exemple, nous définissons une masse volumique de 800 $kg / m^3$, et un rayon de référence de 5 $mm$, alors pour tous les grains leur rayon sera compris tel que: $ 4 < r < 6,$ en $mm$ et la masse correspondante: $m=\\frac{4}{3} * \\pi * r^3 * \\rho$\n",
        "\n",
        "Le pas de temps, la raideur normale et tangentielle et les coefficients d'amortissement dépendent directement de la masse volumique et des caractéristiques de chaque grain. Il existe des relations mathématiques usuelles qui permettent généralement d'éviter des aberrations lors des calculs. En effet, par exemple, un pas de temps trop grand conduit généralement à d'importantes instabilités entrenant des résultats entièrement faux et une simulation alors inutilisable. Cependant, un \"pas de temps trop grand\" n'est pas aussi simple à définir. L'ensemble des paramètres sont liés entre eux et il est impossible de prédire à l'avance le résultat et la qualité d'une simulation numérique sans prendre en compte tous les paramètres et les relations qu'ils entretiennent. C'est pourquoi, pour ne pas à avoir à modifier tous les paramètres à chaque changement dans leur valeur, ces relations nous sont très utiles.\n",
        "\n",
        "<a id=\"figure6\"></a>\n",
        "|![Relation_parametre](equation_relation.png)|\n",
        "|:--:|\n",
        "| <b>Fig.6 - Définition du pas de temps en relation des autres paramètres $ k_n$ et $m_{min}$</b>|\n",
        "\n",
        "\n",
        "Pour modéliser le silo nous avons décidé de définir sa géométrie en utilisant deux droites affines symétrique selon l'axe des ordonné ainsi qu'un bac de récupération modélisé par une simple droite d'équation $ y = cste $. Une image vaut mieux que mille mots:\n",
        "\n",
        "<a id=\"figure7\"></a>\n",
        "|![Silo](silo.png)|\n",
        "|:--:|\n",
        "| <b>Fig.7 - Définition du silo</b>|\n",
        "\n",
        "Comme vous pouvez le remarquer nous avons une nouvelle option \"activer la physique du bac\", cette option, si elle est cochée, permet d'activer le contact sur le bac. Si l'option n'est pas cochée, alors les grains rentrant en contact avec ce bac ne seront plus mis à jour et deviendront totalement inerte.\n",
        "\n",
        "\n",
        "### Numérique :\n",
        "\n",
        "En lisant attentivement [l'algorithme](#figure5) de notre programme on peut y lire l'utilisation d'une liste de voisinage. En effet, lorsqu'on réalise des simulations numériques, le rendu final prend généralement énormément de temps à être finalisé. C'est pourquoi, pour gagner du temps sur nos calculs, on évite généralement de calculer toutes les variables entre tous les grains et toutes les parois à chaque instant de la simulation. A la place, on implémente une liste de contact qui attribue à chaque grain les contacts qui réalise avec son environnement(autres grains ou parois). Pour réaliser cette liste de contact, on utilise alors une liste de voisinage propre à chaque grain qui rend compte de l'environnement autour de l'objet. Il existe plusieurs manière de concevoir des listes de voisinages, celle retenu dans notre projet se nomme la méthode de partition du conteneur':\n",
        "\n",
        "<a id=\"figuren\"></a>\n",
        "|![Voisinage](voisinage.png)|\n",
        "|:--:|\n",
        "| <b>Fig.n - Méthode de partition du conteneur</b>|\n",
        "\n",
        "Cette méthode implique la réalisation d'une grille discrétisant l'espace selon un pas d'espace. Chaque grain appartient alors à une case de la grille.\n",
        "\n",
        "Néanmoins, il est aussi nécessaire de mettre à jour, à la fois grille ainsi que la liste de contact après un intervalle $n_v$ définie comme paramètre."
      ],
      "metadata": {
        "noteable": {
          "cell_type": "markdown"
        }
      },
      "id": "7730c58a-d72b-484a-8f6a-5648be4622cb"
    },
    {
      "cell_type": "markdown",
      "source": [
        "## Explication du code \n",
        "\n",
        "### Algorithme principal :\n",
        "présentation de l'algo principal \n",
        "\n",
        "### Fonction importantes : \n",
        "fonctions intéréssantes à montrer"
      ],
      "metadata": {
        "noteable": {
          "cell_type": "markdown"
        }
      },
      "id": "14844b92-ca26-4168-9231-da431968b462"
    },
    {
      "cell_type": "markdown",
      "source": [
        "## Résultats et analyse\n",
        "\n",
        "### Quelques exemples de simulations :\n",
        "\n"
      ],
      "metadata": {
        "noteable": {
          "cell_type": "markdown"
        }
      },
      "id": "22ccdaa7-b8a2-4913-996e-19a488fa14f2"
    }
  ],
  "metadata": {
    "selected_hardware_size": "small",
    "noteable": {
      "last_transaction_id": "4203eec4-a92d-408e-bf7c-504a90dff860",
      "last_delta_id": "60d61ee4-7547-4788-bfb3-8cad73906de4"
    },
    "display_mode": "default",
    "nteract": {
      "version": "noteable@2.9.0"
    }
  },
  "nbformat": 4,
  "nbformat_minor": 5
}